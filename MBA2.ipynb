{
 "cells": [
  {
   "cell_type": "markdown",
   "id": "aff256cb-b7cc-4a8e-a265-23bd1c649740",
   "metadata": {},
   "source": [
    "# Load and Clean the Dataset"
   ]
  },
  {
   "cell_type": "code",
   "execution_count": 2,
   "id": "4a44947b-17cd-4353-b44c-034996d10f0f",
   "metadata": {},
   "outputs": [],
   "source": [
    "import pandas as pd\n",
    "from mlxtend.frequent_patterns import apriori\n",
    "from mlxtend.frequent_patterns import association_rules\n",
    "import warnings\n",
    "warnings.filterwarnings('ignore')"
   ]
  },
  {
   "cell_type": "code",
   "execution_count": 3,
   "id": "260f5526-933b-4f93-a76d-65c81d418c9f",
   "metadata": {},
   "outputs": [],
   "source": [
    "df=pd.read_excel(r\"C:\\Users\\Mohhit\\Desktop\\CSV FILE\\Online Retail.xlsx\")"
   ]
  },
  {
   "cell_type": "code",
   "execution_count": 4,
   "id": "51c855d2-a586-42af-956b-e1b0370c0341",
   "metadata": {},
   "outputs": [],
   "source": [
    "# Convert InvoiceDate to datetime if not already\n",
    "df['InvoiceDate'] = pd.to_datetime(df['InvoiceDate'])"
   ]
  },
  {
   "cell_type": "code",
   "execution_count": 5,
   "id": "675cfd71-513a-4fab-9c37-a878019465ec",
   "metadata": {},
   "outputs": [],
   "source": [
    "# Drop rows with missing CustomerID\n",
    "df.dropna(subset=['CustomerID'], inplace=True)"
   ]
  },
  {
   "cell_type": "code",
   "execution_count": 6,
   "id": "26ce835b-9a94-4f78-80f0-365b0c2364c3",
   "metadata": {},
   "outputs": [],
   "source": [
    "# Remove cancelled orders (usually marked with InvoiceNo starting with 'C')\n",
    "df = df[~df['InvoiceNo'].astype(str).str.startswith('C')]"
   ]
  },
  {
   "cell_type": "code",
   "execution_count": 7,
   "id": "f2f17fcd-6039-46ec-bfb8-58e3cf48c340",
   "metadata": {},
   "outputs": [],
   "source": [
    "# Reset index\n",
    "df.reset_index(drop=True, inplace=True)"
   ]
  },
  {
   "cell_type": "code",
   "execution_count": 8,
   "id": "637f61ac-7450-43d3-ba8b-0b0bef5f2650",
   "metadata": {},
   "outputs": [
    {
     "name": "stdout",
     "output_type": "stream",
     "text": [
      "<class 'pandas.core.frame.DataFrame'>\n",
      "RangeIndex: 397924 entries, 0 to 397923\n",
      "Data columns (total 8 columns):\n",
      " #   Column       Non-Null Count   Dtype         \n",
      "---  ------       --------------   -----         \n",
      " 0   InvoiceNo    397924 non-null  object        \n",
      " 1   StockCode    397924 non-null  object        \n",
      " 2   Description  397924 non-null  object        \n",
      " 3   Quantity     397924 non-null  int64         \n",
      " 4   InvoiceDate  397924 non-null  datetime64[ns]\n",
      " 5   UnitPrice    397924 non-null  float64       \n",
      " 6   CustomerID   397924 non-null  float64       \n",
      " 7   Country      397924 non-null  object        \n",
      "dtypes: datetime64[ns](1), float64(2), int64(1), object(4)\n",
      "memory usage: 24.3+ MB\n",
      "None\n"
     ]
    }
   ],
   "source": [
    "# Show basic info\n",
    "print(df.info())"
   ]
  },
  {
   "cell_type": "markdown",
   "id": "d543dad7-bf2d-4ea1-9c47-9fbfa53aeb0e",
   "metadata": {},
   "source": [
    "# Market Basket Analysis (Using Apriori)"
   ]
  },
  {
   "cell_type": "code",
   "execution_count": 10,
   "id": "c70c00d8-5414-41a5-8127-be15978abf08",
   "metadata": {},
   "outputs": [],
   "source": [
    "from mlxtend.frequent_patterns import apriori, association_rules"
   ]
  },
  {
   "cell_type": "code",
   "execution_count": 11,
   "id": "b2152580-7d15-4f28-bc72-582aff75c859",
   "metadata": {},
   "outputs": [],
   "source": [
    "# Group by InvoiceNo and Description and sum the quantities\n",
    "basket = (df[df['Country'] == \"United Kingdom\"]\n",
    "          .groupby(['InvoiceNo', 'Description'])['Quantity']\n",
    "          .sum().unstack().fillna(0))"
   ]
  },
  {
   "cell_type": "code",
   "execution_count": 12,
   "id": "37c5d411-18ff-4a58-97a2-444ba206099a",
   "metadata": {},
   "outputs": [],
   "source": [
    "# Convert to 1 and 0 (presence or absence)\n",
    "basket_sets = basket.applymap(lambda x: 1 if x > 0 else 0)"
   ]
  },
  {
   "cell_type": "markdown",
   "id": "5b2eb43d-c506-4dba-bde2-c63b25450078",
   "metadata": {},
   "source": [
    "# Run Apriori and generate rules:"
   ]
  },
  {
   "cell_type": "code",
   "execution_count": 14,
   "id": "ba416e64-eb02-4354-8814-a837493507b1",
   "metadata": {},
   "outputs": [],
   "source": [
    "# Get frequent itemsets\n",
    "frequent_itemsets = apriori(basket_sets, min_support=0.05, use_colnames=True)"
   ]
  },
  {
   "cell_type": "code",
   "execution_count": 15,
   "id": "2d6d4237-3074-4c64-baeb-884e11afeede",
   "metadata": {},
   "outputs": [],
   "source": [
    "# Generate association rules\n",
    "rules = association_rules(frequent_itemsets, metric=\"confidence\", min_threshold=0.6)"
   ]
  },
  {
   "cell_type": "code",
   "execution_count": 16,
   "id": "1638f5f7-b2c4-4674-a995-7832c55136e8",
   "metadata": {},
   "outputs": [],
   "source": [
    "# Sort by lift\n",
    "rules = rules.sort_values(by=\"lift\", ascending=False)"
   ]
  },
  {
   "cell_type": "code",
   "execution_count": 17,
   "id": "aedae362-96de-4e4a-8902-fc6b5245ae91",
   "metadata": {},
   "outputs": [
    {
     "data": {
      "text/html": [
       "<div>\n",
       "<style scoped>\n",
       "    .dataframe tbody tr th:only-of-type {\n",
       "        vertical-align: middle;\n",
       "    }\n",
       "\n",
       "    .dataframe tbody tr th {\n",
       "        vertical-align: top;\n",
       "    }\n",
       "\n",
       "    .dataframe thead th {\n",
       "        text-align: right;\n",
       "    }\n",
       "</style>\n",
       "<table border=\"1\" class=\"dataframe\">\n",
       "  <thead>\n",
       "    <tr style=\"text-align: right;\">\n",
       "      <th></th>\n",
       "      <th>antecedents</th>\n",
       "      <th>consequents</th>\n",
       "      <th>antecedent support</th>\n",
       "      <th>consequent support</th>\n",
       "      <th>support</th>\n",
       "      <th>confidence</th>\n",
       "      <th>lift</th>\n",
       "      <th>representativity</th>\n",
       "      <th>leverage</th>\n",
       "      <th>conviction</th>\n",
       "      <th>zhangs_metric</th>\n",
       "      <th>jaccard</th>\n",
       "      <th>certainty</th>\n",
       "      <th>kulczynski</th>\n",
       "    </tr>\n",
       "  </thead>\n",
       "  <tbody>\n",
       "  </tbody>\n",
       "</table>\n",
       "</div>"
      ],
      "text/plain": [
       "Empty DataFrame\n",
       "Columns: [antecedents, consequents, antecedent support, consequent support, support, confidence, lift, representativity, leverage, conviction, zhangs_metric, jaccard, certainty, kulczynski]\n",
       "Index: []"
      ]
     },
     "execution_count": 17,
     "metadata": {},
     "output_type": "execute_result"
    }
   ],
   "source": [
    "rules"
   ]
  },
  {
   "cell_type": "code",
   "execution_count": 18,
   "id": "431772ed-6503-4fa2-be53-1b251820da81",
   "metadata": {},
   "outputs": [
    {
     "name": "stdout",
     "output_type": "stream",
     "text": [
      "Empty DataFrame\n",
      "Columns: [antecedents, consequents, antecedent support, consequent support, support, confidence, lift, representativity, leverage, conviction, zhangs_metric, jaccard, certainty, kulczynski]\n",
      "Index: []\n"
     ]
    }
   ],
   "source": [
    "# View top rules\n",
    "print(rules.head())"
   ]
  },
  {
   "cell_type": "markdown",
   "id": "50f8bf47-3c05-4d14-a24d-d0e49550b650",
   "metadata": {},
   "source": [
    "### Machine Learning Model (Customer Segmentation using K-Means)"
   ]
  },
  {
   "cell_type": "code",
   "execution_count": 20,
   "id": "3340b957-b3f3-4980-b9c4-f7bbe768be1a",
   "metadata": {},
   "outputs": [],
   "source": [
    "from sklearn.cluster import KMeans\n",
    "from sklearn.preprocessing import StandardScaler\n",
    "import matplotlib.pyplot as plt"
   ]
  },
  {
   "cell_type": "code",
   "execution_count": 21,
   "id": "84af7496-e067-49a0-af1e-5d3118f02874",
   "metadata": {},
   "outputs": [],
   "source": [
    "# Aggregate customer data\n",
    "customer_df = df.groupby('CustomerID').agg({\n",
    "    'InvoiceNo': 'nunique',\n",
    "    'Quantity': 'sum',\n",
    "    'UnitPrice': 'mean',\n",
    "    'InvoiceDate': [min, max]\n",
    "})"
   ]
  },
  {
   "cell_type": "code",
   "execution_count": 22,
   "id": "19c65baf-e412-465b-ba24-a6341364cccc",
   "metadata": {},
   "outputs": [],
   "source": [
    "customer_df.columns = ['Invoices', 'TotalQuantity', 'AvgPrice', 'FirstPurchase', 'LastPurchase']"
   ]
  },
  {
   "cell_type": "code",
   "execution_count": 23,
   "id": "4ba06e75-39a2-4d70-b48e-f8128300ccb0",
   "metadata": {},
   "outputs": [],
   "source": [
    "# Calculate Recency (e.g., days since last purchase)\n",
    "snapshot_date = df['InvoiceDate'].max()\n",
    "customer_df['Recency'] = (snapshot_date - customer_df['LastPurchase']).dt.days"
   ]
  },
  {
   "cell_type": "code",
   "execution_count": 24,
   "id": "9696799a-0a55-415c-a739-c0efa0bc94d3",
   "metadata": {},
   "outputs": [],
   "source": [
    "# Drop date columns and scale features\n",
    "X = customer_df[['Invoices', 'TotalQuantity', 'AvgPrice', 'Recency']]\n",
    "scaler = StandardScaler()\n",
    "X_scaled = scaler.fit_transform(X)"
   ]
  },
  {
   "cell_type": "markdown",
   "id": "a22fd408-31b6-49e3-918b-0525f7c0419f",
   "metadata": {},
   "source": [
    "# Apply K-Means:"
   ]
  },
  {
   "cell_type": "code",
   "execution_count": 26,
   "id": "b207e1e0-3c31-4769-88b7-ad8cc6181dc1",
   "metadata": {},
   "outputs": [],
   "source": [
    "# Fit KMeans\n",
    "kmeans = KMeans(n_clusters=4, random_state=42)\n",
    "customer_df['Cluster'] = kmeans.fit_predict(X_scaled)"
   ]
  },
  {
   "cell_type": "code",
   "execution_count": 27,
   "id": "f4c28c98-481b-4c33-9a03-be90119fb909",
   "metadata": {},
   "outputs": [
    {
     "name": "stdout",
     "output_type": "stream",
     "text": [
      "          Invoices  TotalQuantity     AvgPrice                 FirstPurchase  \\\n",
      "Cluster                                                                        \n",
      "0         4.703072    1123.915607     3.572867 2011-05-19 04:30:02.959975168   \n",
      "1        68.333333   51937.625000     4.008679 2010-12-15 02:54:05.000000000   \n",
      "2         1.592117     286.720440     5.252147 2011-03-10 04:57:04.839596800   \n",
      "3         1.000000       1.000000  2033.100000 2011-09-15 15:20:00.000000000   \n",
      "\n",
      "                         LastPurchase     Recency  \n",
      "Cluster                                            \n",
      "0       2011-10-29 22:21:42.109835520   40.085945  \n",
      "1       2011-11-20 15:36:17.500000000   18.500000  \n",
      "2       2011-04-07 23:02:05.059578368  245.071494  \n",
      "3       2011-09-15 15:20:00.000000000   84.000000  \n"
     ]
    }
   ],
   "source": [
    "# Analyze the clusters\n",
    "print(customer_df.groupby('Cluster').mean())"
   ]
  },
  {
   "cell_type": "code",
   "execution_count": 28,
   "id": "d406a9cf-41a0-48c5-9679-4d50380335de",
   "metadata": {},
   "outputs": [
    {
     "name": "stdout",
     "output_type": "stream",
     "text": [
      "Silhouette Score: 0.583\n"
     ]
    }
   ],
   "source": [
    "from sklearn.metrics import silhouette_score\n",
    "\n",
    "score = silhouette_score(X_scaled, customer_df['Cluster'])\n",
    "print(f\"Silhouette Score: {score:.3f}\")\n"
   ]
  },
  {
   "cell_type": "code",
   "execution_count": 29,
   "id": "6c069803-d736-4bb8-af61-f1652ec68a79",
   "metadata": {},
   "outputs": [
    {
     "name": "stdout",
     "output_type": "stream",
     "text": [
      "Inertia: 6141.823950890472\n"
     ]
    }
   ],
   "source": [
    "print(f\"Inertia: {kmeans.inertia_}\")"
   ]
  },
  {
   "cell_type": "code",
   "execution_count": 30,
   "id": "373bf4db-7a21-40d4-869b-ad1d7311313b",
   "metadata": {},
   "outputs": [
    {
     "data": {
      "image/png": "[encoded data removed]",
      "text/plain": [
       "<Figure size 640x480 with 1 Axes>"
      ]
     },
     "metadata": {},
     "output_type": "display_data"
    }
   ],
   "source": [
    "inertias = []\n",
    "for k in range(1, 11):\n",
    "    model = KMeans(n_clusters=k, random_state=42)\n",
    "    model.fit(X_scaled)\n",
    "    inertias.append(model.inertia_)\n",
    "\n",
    "plt.plot(range(1, 11), inertias, marker='o')\n",
    "plt.title('Elbow Method')\n",
    "plt.xlabel('Number of Clusters')\n",
    "plt.ylabel('Inertia')\n",
    "plt.show()"
   ]
  },
  {
   "cell_type": "code",
   "execution_count": 31,
   "id": "f0c61cc1-4158-4244-b213-ab3e5afcbc54",
   "metadata": {},
   "outputs": [
    {
     "name": "stdout",
     "output_type": "stream",
     "text": [
      "Empty DataFrame\n",
      "Columns: [antecedents, consequents, support, confidence, lift]\n",
      "Index: []\n"
     ]
    }
   ],
   "source": [
    "print(rules[['antecedents', 'consequents', 'support', 'confidence', 'lift']].head())"
   ]
  },
  {
   "cell_type": "code",
   "execution_count": null,
   "id": "9076f52e-dd68-49dc-807f-44be6e52eb71",
   "metadata": {},
   "outputs": [],
   "source": []
  }
 ],
 "metadata": {
  "kernelspec": {
   "display_name": "Python 3 (ipykernel)",
   "language": "python",
   "name": "python3"
  },
  "language_info": {
   "codemirror_mode": {
    "name": "ipython",
    "version": 3
   },
   "file_extension": ".py",
   "mimetype": "text/x-python",
   "name": "python",
   "nbconvert_exporter": "python",
   "pygments_lexer": "ipython3",
   "version": "3.12.7"
  }
 },
 "nbformat": 4,
 "nbformat_minor": 5
}
